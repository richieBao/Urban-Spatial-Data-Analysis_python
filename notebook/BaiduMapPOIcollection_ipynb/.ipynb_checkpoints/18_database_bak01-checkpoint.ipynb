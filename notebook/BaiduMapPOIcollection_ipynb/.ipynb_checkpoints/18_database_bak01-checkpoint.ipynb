{
 "cells": [
  {
   "cell_type": "markdown",
   "metadata": {},
   "source": [
    "> Created on  Jan 14 2019 @author: Richie Bao-caDesign设计(cadesign.cn)__+updated on Sun Nov 29 23:34:53 2020 by Richie Bao"
   ]
  },
  {
   "cell_type": "markdown",
   "metadata": {},
   "source": [
    "## 1. [SQLite]数据库，[Flask] 构建实验用网络应用平台，逆向工程\n",
    "\n",
    "### 1.1 [SQLite]数据库-基础\n",
    "当数据量开始膨胀，常规数据存储方式的简单文件形式，虽然逻辑简单，但可扩展性差，不能解决数据的完整性、一致性以及安全性等一系列问题，由此产生了数据管理系统(Database Management System,DBMS)，即数据库(database)。数据库是按照一定规则保存数据，能予多个用户共享，具有尽可能小的冗余度，与应用程序彼此独立，并能通过查询取回程序所需数据的数据几何。数据库有多种类型，例如与分布处理技术结合产生的分布式数据库，与并行处理技术结合产生的并行数据库，特定领域的地理数据库、空间数据库等。Web最常使用基于关系模型的数据库，即关系数据库，或称为SQL(Structured Query Language)数据库，使用结构化查询语言操作。与之相反的是今年来流行的文档数据库和键-值对数据库，即NoSQL数据库。其中关系型数据库把数据存储在表中，表的列colunm为字段field，每一字段为“样本”的属性，行row为每一“样本”数据。常用的关系型数据库有MySQL(其替代品包括MariaDB等)，以及SQLite。\n",
    "\n",
    "[SQLite](https://www.sqlite.org/index.html)是一个C语言库（SQL数据库引擎），小型、快速、自包含(self-contained)、高高可靠性，功能齐全，已有超过1万亿(1e12)SQLite数据库在活跃的使用。其文档格式稳定、跨平台，向后兼容，同时其开发人员保证在2050年一直保持这种格式。因此在空间数据分析方法研究中，选择SQLite数据库。\n",
    "\n",
    "对于SQLite关系型数据库的操作，包含通过SQLite命令执行(SQL语句)，通过python等语言执行(大多数数据库引擎都有对应的python包)。对于python，使用两个库，一个是[sqlite3](https://docs.python.org/3/library/sqlite3.html)操作SQLite数据库的库，另一是[SQLAlchemy(flask_sqlalchemy)库](https://www.sqlalchemy.org/)(数据库抽象层代码包，可以直接处理高等级的python对象，而不用关注表、文档或查询语言等数据库实体)。当然pandas等库也提供了其对应格式直接读写数据库的方法，进一步简化了对数据库的操作。\n",
    "\n",
    "对SQLite数据库，引用*漫画数据库*中的数据，结合代码实现阐释。同时使用[DB Browser for SQLite(DB4S)](https://sqlitebrowser.org/)辅助查看、管理SQLite数据库。\n",
    "\n",
    "\n",
    "> 参考文献\n",
    "> 1.  高桥麻奈著,崔建锋译.株式会社TREND-PRO漫画制作.漫画数据库[M].科学出版社.北京,2010.5.\n",
    "2. Miguel Grinberg.Flask Web Development: Developing Web Applications with Python[M]. O'Reilly Media; 2nd edition.April 3, 2018. 中文版：Miguel Grinberg.安道译.Flask Web开发：基于Python的Web应用开发实战[M].人民邮电出版社,2018."
   ]
  },
  {
   "cell_type": "code",
   "execution_count": 4,
   "metadata": {},
   "outputs": [
    {
     "name": "stdout",
     "output_type": "stream",
     "text": [
      "Microsoft Windows [Version 10.0.18363.1256]\n",
      "(c) 2019 Microsoft Corporation. All rights reserved.\n",
      "\n",
      "(openCVpytorch) C:\\Users\\richi\\omen-richiebao_s\\omen_github\\Urban-Spatial-Data-Analysis_python\\notebook\\BaiduMapPOIcollection_ipynb>sqlite3 version\n",
      "\n",
      "(openCVpytorch) C:\\Users\\richi\\omen-richiebao_s\\omen_github\\Urban-Spatial-Data-Analysis_python\\notebook\\BaiduMapPOIcollection_ipynb>"
     ]
    }
   ],
   "source": [
    "%%cmd\n",
    "sqlite3 version"
   ]
  },
  {
   "cell_type": "code",
   "execution_count": 6,
   "metadata": {},
   "outputs": [
    {
     "data": {
      "text/plain": [
       "'1.3.19'"
      ]
     },
     "execution_count": 6,
     "metadata": {},
     "output_type": "execute_result"
    }
   ],
   "source": [
    "import sqlalchemy\n",
    "sqlalchemy.__version__"
   ]
  },
  {
   "cell_type": "markdown",
   "metadata": {},
   "source": [
    "* 根据*漫画数据库*录入数据"
   ]
  },
  {
   "cell_type": "code",
   "execution_count": 29,
   "metadata": {},
   "outputs": [],
   "source": [
    "import pandas as pd\n",
    "from datetime import datetime\n",
    "#定义假设的数据字典\n",
    "sales_dic={'idx':[1101,1102,1103,1104,1105],'date':[datetime(2020,3,5),datetime(2020,3,7),datetime(2020,3,8),datetime(2020,3,10),datetime(2020,3,12)],\"exporting_country_ID\":[12,23,25,12,25]}\n",
    "exporting_country_dic={\"exporting_country_ID\":[12,23,25],'exporting_country_name':['kenya','brazil','peru']}\n",
    "sale_details_dic={'idx':[1101,1101,1102,1103,1104,1105,1105],'commodity_code':[101,102,103,104,101,103,104],'number':[1100,300,1700,500,2500,2000,700]}\n",
    "commodity_dic={'commodity_code':[101,102,103,104],'commodity_name':['muskmelon','strawberry','apple','lemon']}\n",
    "\n",
    "#为方便数据管理，将字典格式数据转换为DataFrame格式\n",
    "sales_table=pd.DataFrame.from_dict(sales_dic)\n",
    "exporting_country_table=pd.DataFrame.from_dict(exporting_country_dic)\n",
    "sale_details_table=pd.DataFrame.from_dict(sale_details_dic)\n",
    "commodity_table=pd.DataFrame.from_dict(commodity_dic)"
   ]
  },
  {
   "cell_type": "markdown",
   "metadata": {},
   "source": [
    "* 创建数据库（链接）\n",
    "\n",
    "在当前目录下创建数据库，使用`engine=create_engine('sqlite:///x.sqlite')`语句；相对或绝对路径创建数据库，例如`engine=create_engine('sqlite:///./data/fruits.sqlite'）`或`engine=create_engine('sqlite:///absolute/data/fruits.sqlite'）`；如果创建内存数据库，格式如下`engine=create_engine('sqlite://')`或`engine=create_engine('sqlite:///:memory:', echo=True)`。Unix、Max及Window系统的文件路径分隔符可能不同，如果出现异常，可以尝试在/或\\切换，同时注意\\也是转义符号，因此可能需要写成\\\\\\\\。"
   ]
  },
  {
   "cell_type": "code",
   "execution_count": 323,
   "metadata": {},
   "outputs": [],
   "source": [
    "from sqlalchemy import create_engine\n",
    "\n",
    "db_fp=r'./data/fruits.sqlite'\n",
    "engine=create_engine('sqlite:///'+'\\\\\\\\'.join(db_fp.split('\\\\')),echo=True) "
   ]
  },
  {
   "cell_type": "markdown",
   "metadata": {},
   "source": [
    "执行`create_engine`语句，只是建立了数据库链接，只有向其写入表数据(或者对数据库执行任务，例如`engine.connect()`)，才会在硬盘指定路径下找到该文件。如果存在同名数据库，重复执行此语句，只是实现数据库链接"
   ]
  },
  {
   "cell_type": "code",
   "execution_count": 101,
   "metadata": {},
   "outputs": [
    {
     "name": "stdout",
     "output_type": "stream",
     "text": [
      "2020-12-18 13:40:59,378 INFO sqlalchemy.engine.base.Engine SELECT CAST('test plain returns' AS VARCHAR(60)) AS anon_1\n",
      "2020-12-18 13:40:59,379 INFO sqlalchemy.engine.base.Engine ()\n",
      "2020-12-18 13:40:59,380 INFO sqlalchemy.engine.base.Engine SELECT CAST('test unicode returns' AS VARCHAR(60)) AS anon_1\n",
      "2020-12-18 13:40:59,381 INFO sqlalchemy.engine.base.Engine ()\n"
     ]
    }
   ],
   "source": [
    "connection=engine.connect()\n",
    "connection.close()"
   ]
  },
  {
   "cell_type": "markdown",
   "metadata": {},
   "source": [
    "* 向数据库中写入表及数据\n",
    "\n",
    "1. 写入方法-pandas.DataFrame.to_sql \n",
    "\n",
    "其中参数'if_exists'，可以选择'fail'-为默认值，如果表存在，则返回异常；'replace'-先删除已经存在的表，再重新插入新表；'append'-向存在的表中追加行。\n",
    "\n",
    "pandas方法，不需要建立模型（表结构），数据库模型的表述方法通常易于与机器学习的模型，或者算法模型的说法混淆，因此为了便于区分，这里用表结构代替模型的说法。pandas可以根据DataFrame格式数据信息，尤其包含有自动生成的数据类型，直接在数据库中建立对应数据格式的表，不需要自行预先定义表结构。但是在应用程序中调入表中数据时，又往往需要调用表结构来读取数据库信息，例如Flask Web框架（参看Flask部分阐述）等。因此可以用DB4S来查看刚刚建立的SQLite数据库及写入的表，可以看到表结构，根据表结构的数据类型信息，再手工建立表结构。表结构通常以类(class)的形式定义。但是手工定义相对比较繁琐，尤其字段比较多，不容易确定数据类型时，可以使用数据库逆向工程的方法，例如使用sqlacodegen库生成数据库表结构。"
   ]
  },
  {
   "cell_type": "code",
   "execution_count": 500,
   "metadata": {},
   "outputs": [
    {
     "name": "stdout",
     "output_type": "stream",
     "text": [
      "2020-12-18 21:05:02,636 INFO sqlalchemy.engine.base.Engine PRAGMA main.table_info(\"sales\")\n",
      "2020-12-18 21:05:02,638 INFO sqlalchemy.engine.base.Engine ()\n",
      "2020-12-18 21:05:02,639 INFO sqlalchemy.engine.base.Engine PRAGMA temp.table_info(\"sales\")\n",
      "2020-12-18 21:05:02,639 INFO sqlalchemy.engine.base.Engine ()\n",
      "2020-12-18 21:05:02,642 INFO sqlalchemy.engine.base.Engine \n",
      "CREATE TABLE sales (\n",
      "\t\"index\" BIGINT, \n",
      "\tidx BIGINT, \n",
      "\tdate DATETIME, \n",
      "\t\"exporting_country_ID\" BIGINT\n",
      ")\n",
      "\n",
      "\n",
      "2020-12-18 21:05:02,642 INFO sqlalchemy.engine.base.Engine ()\n",
      "2020-12-18 21:05:02,648 INFO sqlalchemy.engine.base.Engine COMMIT\n",
      "2020-12-18 21:05:02,649 INFO sqlalchemy.engine.base.Engine CREATE INDEX ix_sales_index ON sales (\"index\")\n",
      "2020-12-18 21:05:02,650 INFO sqlalchemy.engine.base.Engine ()\n",
      "2020-12-18 21:05:02,656 INFO sqlalchemy.engine.base.Engine COMMIT\n",
      "2020-12-18 21:05:02,657 INFO sqlalchemy.engine.base.Engine BEGIN (implicit)\n",
      "2020-12-18 21:05:02,658 INFO sqlalchemy.engine.base.Engine INSERT INTO sales (\"index\", idx, date, \"exporting_country_ID\") VALUES (?, ?, ?, ?)\n",
      "2020-12-18 21:05:02,659 INFO sqlalchemy.engine.base.Engine ((0, 1101, '2020-03-05 00:00:00.000000', 12), (1, 1102, '2020-03-07 00:00:00.000000', 23), (2, 1103, '2020-03-08 00:00:00.000000', 25), (3, 1104, '2020-03-10 00:00:00.000000', 12), (4, 1105, '2020-03-12 00:00:00.000000', 25))\n",
      "2020-12-18 21:05:02,661 INFO sqlalchemy.engine.base.Engine COMMIT\n",
      "__________ the sales table has been written......\n"
     ]
    }
   ],
   "source": [
    "def df2SQLite(engine,df,table,method='fail'):\n",
    "    '''\n",
    "    function - pandas方法把DataFrame格式数据写入数据库（同时创建表）\n",
    "    \n",
    "    Paras:\n",
    "    engine - 数据库链接\n",
    "    df - DataFrame格式数据，待写入数据库\n",
    "    table - 表名称\n",
    "    method - 写入方法，'fail'，'replace'或'append'\n",
    "    '''\n",
    "    try:    \n",
    "        df.to_sql(table,con=engine,if_exists=\"%s\"%method)\n",
    "        if method=='replace':            \n",
    "            print(\"_\"*10,'the %s table has been overwritten...'%table)                  \n",
    "        elif method=='append':\n",
    "            print(\"_\"*10,'the %s table has been appended...'%table)\n",
    "        else:\n",
    "            print(\"_\"*10,'the %s table has been written......'%table)\n",
    "    except:\n",
    "        print(\"_\"*10,'the %s table has been existed......'%table)\n",
    "method='fail'  \n",
    "table='sales'\n",
    "df=sales_table\n",
    "df2SQLite(engine,df,table,method)"
   ]
  },
  {
   "cell_type": "code",
   "execution_count": 105,
   "metadata": {},
   "outputs": [
    {
     "name": "stdout",
     "output_type": "stream",
     "text": [
      "2020-12-18 13:43:18,408 INFO sqlalchemy.engine.base.Engine PRAGMA main.table_info(\"sales\")\n",
      "2020-12-18 13:43:18,408 INFO sqlalchemy.engine.base.Engine ()\n",
      "__________ the sales table has been existed......\n"
     ]
    }
   ],
   "source": [
    "df2SQLite(engine,df,table,method='fail')"
   ]
  },
  {
   "cell_type": "code",
   "execution_count": 141,
   "metadata": {},
   "outputs": [
    {
     "name": "stdout",
     "output_type": "stream",
     "text": [
      "Microsoft Windows [Version 10.0.18363.1256]\n",
      "(c) 2019 Microsoft Corporation. All rights reserved.\n",
      "\n",
      "(openCVpytorch) C:\\Users\\richi\\omen-richiebao_s\\omen_github\\Urban-Spatial-Data-Analysis_python\\notebook\\BaiduMapPOIcollection_ipynb>sqlacodegen sqlite:///./data/fruits.sqlite --tables sales --outfile sales_table_structure.py\n",
      "\n",
      "(openCVpytorch) C:\\Users\\richi\\omen-richiebao_s\\omen_github\\Urban-Spatial-Data-Analysis_python\\notebook\\BaiduMapPOIcollection_ipynb>"
     ]
    }
   ],
   "source": [
    "%%cmd\n",
    "sqlacodegen sqlite:///./data/fruits.sqlite --tables sales --outfile sales_table_structure.py"
   ]
  },
  {
   "cell_type": "markdown",
   "metadata": {},
   "source": [
    "由sqlacodegen库生成SQLite数据库中'sales'表结构。对于sqlacodegen方法可以在命令行中输入`sqlacodegen --help`查看。生成的表结构写入到指定的文件中。\n",
    "\n",
    "```python\n",
    "# coding: utf-8\n",
    "from sqlalchemy import BigInteger, Column, DateTime, MetaData, Table\n",
    "metadata = MetaData()\n",
    "t_sales = Table(\n",
    "    'sales', metadata,\n",
    "    Column('index', BigInteger, index=True),\n",
    "    Column('idx', BigInteger),\n",
    "    Column('date', DateTime),\n",
    "    Column('exporting_country_ID', BigInteger)\n",
    ")\n",
    "```"
   ]
  },
  {
   "cell_type": "markdown",
   "metadata": {},
   "source": [
    "2. 写入方法-sqlalchemy创建表结构，及写入表\n",
    "\n",
    "定义的表结构需要继承d`eclarative_base()`映射类。完成表结构的定义后，执行`BASE.metadata.create_all(engine, checkfirst=True)`写入表结构，注意此时并未写入数据。"
   ]
  },
  {
   "cell_type": "code",
   "execution_count": 152,
   "metadata": {},
   "outputs": [
    {
     "data": {
      "text/plain": [
       "Table('exporting_country', MetaData(bind=None), Column('index', Integer(), table=<exporting_country>, primary_key=True, nullable=False), Column('exporting_country_ID', Integer(), table=<exporting_country>), Column('exporting_country_name', Text(), table=<exporting_country>), schema=None)"
      ]
     },
     "execution_count": 152,
     "metadata": {},
     "output_type": "execute_result"
    }
   ],
   "source": [
    "from sqlalchemy.ext.declarative import declarative_base\n",
    "import sqlalchemy as db\n",
    "\n",
    "BASE=declarative_base() #基本映射类，需要自定义的表结构继承\n",
    "\n",
    "class exporting_country(BASE):\n",
    "    __tablename__='exporting_country'     \n",
    "    \n",
    "    index=db.Column(db.Integer, primary_key=True, autoincrement=True) #自动生成的索引列\n",
    "    exporting_country_ID=db.Column(db.Integer)\n",
    "    exporting_country_name=db.Column(db.Text)\n",
    "    \n",
    "    def __repr__(self): #用于表结构打印时输出的字符串，亦可以不用写。\n",
    "        return '<exporting_country %r>'%self.exporting_country_ID \n",
    "exporting_country.__table__ #查看表结构"
   ]
  },
  {
   "cell_type": "code",
   "execution_count": 153,
   "metadata": {},
   "outputs": [
    {
     "name": "stdout",
     "output_type": "stream",
     "text": [
      "2020-12-18 15:12:54,227 INFO sqlalchemy.engine.base.Engine PRAGMA main.table_info(\"exporting_country\")\n",
      "2020-12-18 15:12:54,228 INFO sqlalchemy.engine.base.Engine ()\n",
      "2020-12-18 15:12:54,229 INFO sqlalchemy.engine.base.Engine PRAGMA temp.table_info(\"exporting_country\")\n",
      "2020-12-18 15:12:54,230 INFO sqlalchemy.engine.base.Engine ()\n",
      "2020-12-18 15:12:54,232 INFO sqlalchemy.engine.base.Engine \n",
      "CREATE TABLE exporting_country (\n",
      "\t\"index\" INTEGER NOT NULL, \n",
      "\t\"exporting_country_ID\" INTEGER, \n",
      "\texporting_country_name TEXT, \n",
      "\tPRIMARY KEY (\"index\")\n",
      ")\n",
      "\n",
      "\n",
      "2020-12-18 15:12:54,232 INFO sqlalchemy.engine.base.Engine ()\n",
      "2020-12-18 15:12:54,238 INFO sqlalchemy.engine.base.Engine COMMIT\n"
     ]
    }
   ],
   "source": [
    "BASE.metadata.create_all(engine, checkfirst=True) #checkfirst=True，检查该表是否存在，如果存在则不建立，默认为True。可以增加tables=[Base.metadata.tables['exporting_country']]参数指定创建哪些表，或者直接使用exporting_country.__table__.create(engine, checkfirst=True)方法"
   ]
  },
  {
   "cell_type": "markdown",
   "metadata": {},
   "source": [
    "将数据写入到新定义的表中。使用`session.add_all`方法可以一次性写入多组数据，但是需要将其转换为对应的格式。"
   ]
  },
  {
   "cell_type": "code",
   "execution_count": 312,
   "metadata": {},
   "outputs": [
    {
     "name": "stdout",
     "output_type": "stream",
     "text": [
      "2020-12-18 17:09:00,532 INFO sqlalchemy.engine.base.Engine BEGIN (implicit)\n",
      "2020-12-18 17:09:00,532 INFO sqlalchemy.engine.base.Engine INSERT INTO exporting_country (\"exporting_country_ID\", exporting_country_name) VALUES (?, ?)\n",
      "2020-12-18 17:09:00,533 INFO sqlalchemy.engine.base.Engine (12, 'kenya')\n",
      "2020-12-18 17:09:00,541 INFO sqlalchemy.engine.base.Engine INSERT INTO exporting_country (\"exporting_country_ID\", exporting_country_name) VALUES (?, ?)\n",
      "2020-12-18 17:09:00,541 INFO sqlalchemy.engine.base.Engine (23, 'brazil')\n",
      "2020-12-18 17:09:00,542 INFO sqlalchemy.engine.base.Engine INSERT INTO exporting_country (\"exporting_country_ID\", exporting_country_name) VALUES (?, ?)\n",
      "2020-12-18 17:09:00,543 INFO sqlalchemy.engine.base.Engine (25, 'peru')\n",
      "2020-12-18 17:09:00,544 INFO sqlalchemy.engine.base.Engine COMMIT\n"
     ]
    }
   ],
   "source": [
    "from sqlalchemy.orm import sessionmaker\n",
    "SESSION=sessionmaker(bind=engine) #建立会话链接\n",
    "session=SESSION() #实例化\n",
    "\n",
    "def zip_dic_tableSQLite(dic,table_model):\n",
    "    '''\n",
    "    function - 按字典的键，成对匹配，返回用于写入SQLite数据库的列表\n",
    "    \n",
    "    Paras:\n",
    "    dic - 字典格式数据\n",
    "    table_model - 表结构（模型）。数据将写入到该表中\n",
    "    '''\n",
    "    keys=list(dic.keys())\n",
    "    vals=dic.values()\n",
    "    vals_zip=list(zip(*list(vals)))\n",
    "    #[{k:i for k,i in zip(keys, v)} for v in vals_zip]     \n",
    "    return [table_model(**{k:i for k,i in zip(keys, v)}) for v in vals_zip]\n",
    "\n",
    "exporting_country_table_model=zip_dic_tableSQLite(exporting_country_dic,exporting_country)\n",
    "session.add_all(exporting_country_table_model)\n",
    "session.commit()"
   ]
  },
  {
   "cell_type": "markdown",
   "metadata": {},
   "source": [
    "用pandas写入SQLite数据库的方法，将剩下的两组数据写入。同时应用sqlacodegen库生成对应的数据库表结构。"
   ]
  },
  {
   "cell_type": "code",
   "execution_count": 499,
   "metadata": {},
   "outputs": [
    {
     "name": "stdout",
     "output_type": "stream",
     "text": [
      "2020-12-18 21:04:39,931 INFO sqlalchemy.engine.base.Engine PRAGMA main.table_info(\"sale_details\")\n",
      "2020-12-18 21:04:39,931 INFO sqlalchemy.engine.base.Engine ()\n",
      "2020-12-18 21:04:39,931 INFO sqlalchemy.engine.base.Engine PRAGMA temp.table_info(\"sale_details\")\n",
      "2020-12-18 21:04:39,932 INFO sqlalchemy.engine.base.Engine ()\n",
      "2020-12-18 21:04:39,934 INFO sqlalchemy.engine.base.Engine \n",
      "CREATE TABLE sale_details (\n",
      "\t\"index\" BIGINT, \n",
      "\tidx BIGINT, \n",
      "\tcommodity_code BIGINT, \n",
      "\tnumber BIGINT\n",
      ")\n",
      "\n",
      "\n",
      "2020-12-18 21:04:39,935 INFO sqlalchemy.engine.base.Engine ()\n",
      "2020-12-18 21:04:39,941 INFO sqlalchemy.engine.base.Engine COMMIT\n",
      "2020-12-18 21:04:39,941 INFO sqlalchemy.engine.base.Engine CREATE INDEX ix_sale_details_index ON sale_details (\"index\")\n",
      "2020-12-18 21:04:39,942 INFO sqlalchemy.engine.base.Engine ()\n",
      "2020-12-18 21:04:39,947 INFO sqlalchemy.engine.base.Engine COMMIT\n",
      "2020-12-18 21:04:39,950 INFO sqlalchemy.engine.base.Engine BEGIN (implicit)\n",
      "2020-12-18 21:04:39,950 INFO sqlalchemy.engine.base.Engine INSERT INTO sale_details (\"index\", idx, commodity_code, number) VALUES (?, ?, ?, ?)\n",
      "2020-12-18 21:04:39,951 INFO sqlalchemy.engine.base.Engine ((0, 1101, 101, 1100), (1, 1101, 102, 300), (2, 1102, 103, 1700), (3, 1103, 104, 500), (4, 1104, 101, 2500), (5, 1105, 103, 2000), (6, 1105, 104, 700))\n",
      "2020-12-18 21:04:39,953 INFO sqlalchemy.engine.base.Engine COMMIT\n",
      "__________ the sale_details table has been written......\n",
      "2020-12-18 21:04:39,960 INFO sqlalchemy.engine.base.Engine PRAGMA main.table_info(\"commodity\")\n",
      "2020-12-18 21:04:39,961 INFO sqlalchemy.engine.base.Engine ()\n",
      "2020-12-18 21:04:39,963 INFO sqlalchemy.engine.base.Engine PRAGMA temp.table_info(\"commodity\")\n",
      "2020-12-18 21:04:39,964 INFO sqlalchemy.engine.base.Engine ()\n",
      "2020-12-18 21:04:39,966 INFO sqlalchemy.engine.base.Engine \n",
      "CREATE TABLE commodity (\n",
      "\t\"index\" BIGINT, \n",
      "\tcommodity_code BIGINT, \n",
      "\tcommodity_name TEXT\n",
      ")\n",
      "\n",
      "\n",
      "2020-12-18 21:04:39,967 INFO sqlalchemy.engine.base.Engine ()\n",
      "2020-12-18 21:04:39,975 INFO sqlalchemy.engine.base.Engine COMMIT\n",
      "2020-12-18 21:04:39,976 INFO sqlalchemy.engine.base.Engine CREATE INDEX ix_commodity_index ON commodity (\"index\")\n",
      "2020-12-18 21:04:39,977 INFO sqlalchemy.engine.base.Engine ()\n",
      "2020-12-18 21:04:39,983 INFO sqlalchemy.engine.base.Engine COMMIT\n",
      "2020-12-18 21:04:39,985 INFO sqlalchemy.engine.base.Engine BEGIN (implicit)\n",
      "2020-12-18 21:04:39,986 INFO sqlalchemy.engine.base.Engine INSERT INTO commodity (\"index\", commodity_code, commodity_name) VALUES (?, ?, ?)\n",
      "2020-12-18 21:04:39,987 INFO sqlalchemy.engine.base.Engine ((0, 101, 'muskmelon'), (1, 102, 'strawberry'), (2, 103, 'apple'), (3, 104, 'lemon'))\n",
      "2020-12-18 21:04:39,989 INFO sqlalchemy.engine.base.Engine COMMIT\n",
      "__________ the commodity table has been written......\n"
     ]
    }
   ],
   "source": [
    "df2SQLite(engine,sale_details_table,table='sale_details')\n",
    "df2SQLite(engine,commodity_table,table='commodity')"
   ]
  },
  {
   "cell_type": "markdown",
   "metadata": {},
   "source": [
    "使用sqlacodegen库分别生成对应的数据库表结构。"
   ]
  },
  {
   "cell_type": "code",
   "execution_count": 402,
   "metadata": {},
   "outputs": [
    {
     "name": "stdout",
     "output_type": "stream",
     "text": [
      "Microsoft Windows [Version 10.0.18363.1256]\n",
      "(c) 2019 Microsoft Corporation. All rights reserved.\n",
      "\n",
      "(openCVpytorch) C:\\Users\\richi\\omen-richiebao_s\\omen_github\\Urban-Spatial-Data-Analysis_python\\notebook\\BaiduMapPOIcollection_ipynb>sqlacodegen sqlite:///./data/fruits.sqlite --tables sale_details --outfile sale_details_table_structure.py\n",
      "\n",
      "(openCVpytorch) C:\\Users\\richi\\omen-richiebao_s\\omen_github\\Urban-Spatial-Data-Analysis_python\\notebook\\BaiduMapPOIcollection_ipynb>sqlacodegen sqlite:///./data/fruits.sqlite --tables commodity --outfile commodity_table_structure.py\n",
      "\n",
      "(openCVpytorch) C:\\Users\\richi\\omen-richiebao_s\\omen_github\\Urban-Spatial-Data-Analysis_python\\notebook\\BaiduMapPOIcollection_ipynb>"
     ]
    }
   ],
   "source": [
    "%%cmd\n",
    "sqlacodegen sqlite:///./data/fruits.sqlite --tables sale_details --outfile sale_details_table_structure.py\n",
    "sqlacodegen sqlite:///./data/fruits.sqlite --tables commodity --outfile commodity_table_structure.py"
   ]
  },
  {
   "cell_type": "code",
   "execution_count": 433,
   "metadata": {},
   "outputs": [],
   "source": [
    "# coding: utf-8\n",
    "from sqlalchemy import BigInteger, Column, MetaData, Table, Text\n",
    "metadata = MetaData()\n",
    "\n",
    "t_sale_details = Table(\n",
    "    'sale_details', metadata,\n",
    "    Column('index', BigInteger, index=True),\n",
    "    Column('idx', BigInteger),\n",
    "    Column('commodity_code', BigInteger),\n",
    "    Column('number', BigInteger)\n",
    ")\n",
    "\n",
    "t_commodity = Table(\n",
    "    'commodity', metadata,\n",
    "    Column('index', BigInteger, index=True),\n",
    "    Column('commodity_code', BigInteger),\n",
    "    Column('commodity_name', Text)\n",
    ")"
   ]
  },
  {
   "cell_type": "markdown",
   "metadata": {},
   "source": [
    "* 查询数据库\n",
    "\n",
    "使用类定义的表结构，在应用`session.query()`读取数据库时返回的是一个对象'<exporting_country 12>'，需要给定字段读取具体的值。\n",
    "\n",
    "读取的方法有多种，可以自行搜索查询。"
   ]
  },
  {
   "cell_type": "code",
   "execution_count": 401,
   "metadata": {},
   "outputs": [
    {
     "name": "stdout",
     "output_type": "stream",
     "text": [
      "2020-12-18 19:07:47,662 INFO sqlalchemy.engine.base.Engine SELECT exporting_country.\"index\" AS exporting_country_index, exporting_country.\"exporting_country_ID\" AS \"exporting_country_exporting_country_ID\", exporting_country.exporting_country_name AS exporting_country_exporting_country_name \n",
      "FROM exporting_country \n",
      "WHERE exporting_country.\"exporting_country_ID\" = ?\n",
      " LIMIT ? OFFSET ?\n",
      "2020-12-18 19:07:47,663 INFO sqlalchemy.engine.base.Engine (12, 1, 0)\n",
      "__________________________________________________\n",
      "<exporting_country 12>\n",
      "kenya 12\n"
     ]
    }
   ],
   "source": [
    "exporting_country_query=session.query(exporting_country).filter_by(exporting_country_ID=12).first()\n",
    "print(\"_\"*50)\n",
    "print(exporting_country_query)\n",
    "print(exporting_country_query.exporting_country_name,exporting_country_query.exporting_country_ID)"
   ]
  },
  {
   "cell_type": "markdown",
   "metadata": {},
   "source": [
    "使用sqlacodegen库生成数据库表结构，是使用`sqlalchemy.Table`定义。在应用`session.query()`读取数据库时返回的是一个元组，顺序包含所有字段的值。"
   ]
  },
  {
   "cell_type": "code",
   "execution_count": 434,
   "metadata": {},
   "outputs": [
    {
     "name": "stdout",
     "output_type": "stream",
     "text": [
      "2020-12-18 19:48:47,459 INFO sqlalchemy.engine.base.Engine SELECT sales.\"index\" AS sales_index, sales.idx AS sales_idx, sales.date AS sales_date, sales.\"exporting_country_ID\" AS \"sales_exporting_country_ID\" \n",
      "FROM sales \n",
      "WHERE sales.idx = ?\n",
      " LIMIT ? OFFSET ?\n",
      "2020-12-18 19:48:47,460 INFO sqlalchemy.engine.base.Engine (1101, 1, 0)\n",
      "__________________________________________________\n",
      "(0, 1101, datetime.datetime(2020, 3, 5, 0, 0), 12)\n"
     ]
    }
   ],
   "source": [
    "# coding: utf-8\n",
    "from sqlalchemy import BigInteger, Column, DateTime, MetaData, Table\n",
    "t_sales = Table(\n",
    "    'sales', metadata,\n",
    "    Column('index', BigInteger, index=True),\n",
    "    Column('idx', BigInteger),\n",
    "    Column('date', DateTime),\n",
    "    Column('exporting_country_ID', BigInteger)\n",
    ")\n",
    "\n",
    "sales_query=session.query(t_sales).filter_by(idx=1101).first()\n",
    "print(\"_\"*50)\n",
    "print(sales_query)"
   ]
  },
  {
   "cell_type": "markdown",
   "metadata": {},
   "source": [
    "* 增-删数据库\n",
    "\n",
    "在sqlacodegen库生成数据库表结构，并运行，'sales'表则被存储于metadata元数据中。如果再定义一个类，同样指向这个表，则需要配置'extend_existing': True，表示在已有列基础上进行扩展，即sqlalchemy允许类是表的子集（一个表可以指向多个表结构的类）。"
   ]
  },
  {
   "cell_type": "code",
   "execution_count": 448,
   "metadata": {},
   "outputs": [
    {
     "data": {
      "text/plain": [
       "immutabledict({'sale_details': Table('sale_details', MetaData(bind=None), Column('index', BigInteger(), table=<sale_details>), Column('idx', BigInteger(), table=<sale_details>), Column('commodity_code', BigInteger(), table=<sale_details>), Column('number', BigInteger(), table=<sale_details>), schema=None), 'commodity': Table('commodity', MetaData(bind=None), Column('index', BigInteger(), table=<commodity>), Column('commodity_code', BigInteger(), table=<commodity>), Column('commodity_name', Text(), table=<commodity>), schema=None), 'sales': Table('sales', MetaData(bind=None), Column('index', BigInteger(), table=<sales>), Column('idx', BigInteger(), table=<sales>), Column('date', DateTime(), table=<sales>), Column('exporting_country_ID', BigInteger(), table=<sales>), schema=None)})"
      ]
     },
     "execution_count": 448,
     "metadata": {},
     "output_type": "execute_result"
    }
   ],
   "source": [
    "metadata.tables"
   ]
  },
  {
   "cell_type": "code",
   "execution_count": 501,
   "metadata": {},
   "outputs": [
    {
     "name": "stdout",
     "output_type": "stream",
     "text": [
      "2020-12-18 21:05:29,980 INFO sqlalchemy.engine.base.Engine BEGIN (implicit)\n",
      "2020-12-18 21:05:29,982 INFO sqlalchemy.engine.base.Engine INSERT INTO sales (\"index\", idx, date, \"exporting_country_ID\") VALUES (?, ?, ?, ?)\n",
      "2020-12-18 21:05:29,983 INFO sqlalchemy.engine.base.Engine (5, 1106, '2020-12-18 00:00:00.000000', 25)\n",
      "2020-12-18 21:05:29,989 INFO sqlalchemy.engine.base.Engine COMMIT\n"
     ]
    }
   ],
   "source": [
    "class sales(BASE):\n",
    "    __tablename__='sales'     \n",
    "    __table_args__ = {'extend_existing': True} \n",
    "    \n",
    "    index=db.Column(db.Integer, primary_key=True, autoincrement=True) #因为该sales类是在执行t_sales之后定义，只能是在原有表上扩展，无法修改原表结构属性，因此index字段并不会实现自动增加的属性。需要手动增加index字段值\n",
    "    idx=db.Column(db.Integer)\n",
    "    date=db.Column(db.DateTime)\n",
    "    exporting_country_ID=db.Column(db.Integer)\n",
    "    \n",
    "from sqlalchemy.orm import sessionmaker\n",
    "SESSION=sessionmaker(bind=engine) #建立会话链接\n",
    "session=SESSION() #实例化    \n",
    "    \n",
    "new_sale=sales(index=5,idx=1106,date=datetime(2020,12,18),exporting_country_ID=25)\n",
    "session.add(new_sale)\n",
    "session.commit()"
   ]
  },
  {
   "cell_type": "code",
   "execution_count": 502,
   "metadata": {},
   "outputs": [
    {
     "name": "stdout",
     "output_type": "stream",
     "text": [
      "2020-12-18 21:05:37,533 INFO sqlalchemy.engine.base.Engine BEGIN (implicit)\n",
      "2020-12-18 21:05:37,534 INFO sqlalchemy.engine.base.Engine SELECT sales.\"index\" AS sales_index, sales.idx AS sales_idx, sales.date AS sales_date, sales.\"exporting_country_ID\" AS \"sales_exporting_country_ID\" \n",
      "FROM sales \n",
      "WHERE sales.idx = ?\n",
      " LIMIT ? OFFSET ?\n",
      "2020-12-18 21:05:37,534 INFO sqlalchemy.engine.base.Engine (1106, 1, 0)\n"
     ]
    }
   ],
   "source": [
    "del_sale=session.query(sales).filter_by(idx=1106).first() #如果该行中有值为空，例如在增加该行数据时未定义写入index=5字段，该语句返回值会未空。如允许出现空值，在定义表结构时需要配置nullabley=True"
   ]
  },
  {
   "cell_type": "code",
   "execution_count": 503,
   "metadata": {},
   "outputs": [
    {
     "name": "stdout",
     "output_type": "stream",
     "text": [
      "2020-12-18 21:05:42,770 INFO sqlalchemy.engine.base.Engine DELETE FROM sales WHERE sales.\"index\" = ?\n",
      "2020-12-18 21:05:42,771 INFO sqlalchemy.engine.base.Engine (5,)\n",
      "2020-12-18 21:05:42,780 INFO sqlalchemy.engine.base.Engine COMMIT\n"
     ]
    }
   ],
   "source": [
    "session.delete(del_sale)\n",
    "session.commit()"
   ]
  },
  {
   "cell_type": "markdown",
   "metadata": {},
   "source": [
    "* 修改数据库\n",
    "\n"
   ]
  },
  {
   "cell_type": "code",
   "execution_count": 504,
   "metadata": {},
   "outputs": [
    {
     "name": "stdout",
     "output_type": "stream",
     "text": [
      "2020-12-18 21:09:54,886 INFO sqlalchemy.engine.base.Engine BEGIN (implicit)\n",
      "2020-12-18 21:09:54,888 INFO sqlalchemy.engine.base.Engine SELECT sales.\"index\" AS sales_index, sales.idx AS sales_idx, sales.date AS sales_date, sales.\"exporting_country_ID\" AS \"sales_exporting_country_ID\" \n",
      "FROM sales \n",
      "WHERE sales.idx = ?\n",
      " LIMIT ? OFFSET ?\n",
      "2020-12-18 21:09:54,888 INFO sqlalchemy.engine.base.Engine (1105, 1, 0)\n",
      "2020-12-18 21:09:54,891 INFO sqlalchemy.engine.base.Engine UPDATE sales SET \"exporting_country_ID\"=? WHERE sales.\"index\" = ?\n",
      "2020-12-18 21:09:54,891 INFO sqlalchemy.engine.base.Engine (23, 4)\n",
      "2020-12-18 21:09:54,896 INFO sqlalchemy.engine.base.Engine COMMIT\n"
     ]
    }
   ],
   "source": [
    "mod_sale=session.query(sales).filter_by(idx=1105).first()\n",
    "mod_sale.exporting_country_ID=23 #修改字段值\n",
    "session.commit()"
   ]
  },
  {
   "cell_type": "markdown",
   "metadata": {},
   "source": [
    "### 1.2 [SQLite]数据库-表间关系"
   ]
  },
  {
   "cell_type": "code",
   "execution_count": null,
   "metadata": {},
   "outputs": [],
   "source": []
  },
  {
   "cell_type": "code",
   "execution_count": null,
   "metadata": {},
   "outputs": [],
   "source": []
  },
  {
   "cell_type": "code",
   "execution_count": null,
   "metadata": {},
   "outputs": [],
   "source": []
  },
  {
   "cell_type": "code",
   "execution_count": null,
   "metadata": {},
   "outputs": [],
   "source": []
  },
  {
   "cell_type": "code",
   "execution_count": null,
   "metadata": {},
   "outputs": [],
   "source": []
  },
  {
   "cell_type": "code",
   "execution_count": null,
   "metadata": {},
   "outputs": [],
   "source": []
  }
 ],
 "metadata": {
  "kernelspec": {
   "display_name": "Python 3",
   "language": "python",
   "name": "python3"
  },
  "language_info": {
   "codemirror_mode": {
    "name": "ipython",
    "version": 3
   },
   "file_extension": ".py",
   "mimetype": "text/x-python",
   "name": "python",
   "nbconvert_exporter": "python",
   "pygments_lexer": "ipython3",
   "version": "3.8.5"
  }
 },
 "nbformat": 4,
 "nbformat_minor": 4
}

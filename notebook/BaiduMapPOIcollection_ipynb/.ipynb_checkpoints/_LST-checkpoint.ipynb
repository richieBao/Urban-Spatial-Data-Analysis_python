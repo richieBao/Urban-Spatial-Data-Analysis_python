{
 "cells": [
  {
   "cell_type": "markdown",
   "metadata": {},
   "source": [
    "> Created on Fri May 31 10:31:58 2019 @author: Richie Bao-caDesign设计(cadesign.cn)__+updated on Fri Dec 25 22:07:35 2020"
   ]
  },
  {
   "cell_type": "markdown",
   "metadata": {},
   "source": [
    "## 1. 地表温度与城市空间分布结构的关系及其预测模型"
   ]
  },
  {
   "cell_type": "code",
   "execution_count": null,
   "metadata": {},
   "outputs": [],
   "source": [
    "Landsat_fp={\n",
    "        \"w_180310\":r\"F:\\data_02_Chicago\\9_landsat\\LC08_L1TP_023031_20180310_20180320_01_T1\", #冬季\n",
    "        \"s_190820\":r\"F:\\data_02_Chicago\\9_landsat\\LC08_L1TP_023031_20190804_20190820_01_T1\", #夏季\n",
    "        }"
   ]
  }
 ],
 "metadata": {
  "kernelspec": {
   "display_name": "Python 3",
   "language": "python",
   "name": "python3"
  },
  "language_info": {
   "codemirror_mode": {
    "name": "ipython",
    "version": 3
   },
   "file_extension": ".py",
   "mimetype": "text/x-python",
   "name": "python",
   "nbconvert_exporter": "python",
   "pygments_lexer": "ipython3",
   "version": "3.8.5"
  }
 },
 "nbformat": 4,
 "nbformat_minor": 4
}

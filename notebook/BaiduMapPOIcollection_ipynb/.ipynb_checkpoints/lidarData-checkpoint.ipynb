{
 "cells": [
  {
   "cell_type": "markdown",
   "metadata": {},
   "source": [
    "> Created on Mon Dec  2 22:25:18 2019  @author: Richie Bao-caDesign设计(cadesign.cn)\n",
    "> __+updated on Fri Aug 14 21:20:01 2020 by Richie Bao"
   ]
  },
  {
   "cell_type": "markdown",
   "metadata": {},
   "source": [
    "## 1. 点云数据（激光雷达）处理，内存管理\n",
    "点云（point cloud）是使用三维扫描仪获取的资料，当然设计的三维模型也可以转换为点云数据据。其中三维对象以点的形式记录，每个点即为一个三维坐标，同时可能包含颜色信息（RGB），或物体反射面的强度（intensity）。强度信息是激光扫描仪接受装置采集到的回波强度，与目标的表面材质、粗糙度、入射角方向以及仪器的发射能量，激光波长有关。点云数据的数据格式比较丰富，常用的包括.xyz(.xyzn，.xyzrgb)，.las，.ply，.pcd，.pts等，也包括一些关联格式的存储类型，例如基于numpy存储的array数组.numpy(.npu)，基于matlab格式存储的.matlab数组格式，当然也有基于文本存储的.txt文件。注意虽然有些存储类型后缀名不同，也许实际上，数据格式相同。在地理空间数据中，常使用.las格式的数据。LAS（LASer）格式是由美国摄影测量和遥感协会（American Society for Photogrammetry and Remote Sensing，ASPRS）制定的激光雷达点云数据的交换和归档文件格式，被认为是激光雷达数据的行业标准。LAS格式点云数据包括多个版本，最近的为LAS 1.4（2011.11.14），不同的版本点云数据包括的信息也许不同，需要注意这点。LAS通常包括由整数值标识的分类信息（LAS1.1及之后的版本），其1.1-1.4LAS类别代码如下：\n",
    "\n",
    "|  分类值/classification value | 类别  |   \n",
    "|---|---|\n",
    "|0   | 不被用于分类/Never classified   |      \n",
    "|1   | 未被定义/unassigned  |      \n",
    "|2   | 地面/ground  |      \n",
    "|3  | 低矮树木/low vegetation  | \n",
    "|4  | 中等树木/medium vegetation  | \n",
    "|5  | 高的树木/high vegetation  | \n",
    "|6  | 建筑/building  | \n",
    "|7  | 低的点/low point  | \n",
    "|8  | 保留/reserved  | \n",
    "|9  | 水体/water  | \n",
    "|10  | 铁路/rail  | \n",
    "|11  | 道路表面/road surface  | \n",
    "|12  | 保留/reserved  | \n",
    "|13  | 金属丝防护（屏蔽）/wire-guard(shield)  | \n",
    "|14  | 导线（相）/wire-conductor(phase)  | \n",
    "|15  | 输电杆塔/transmission tower  | \n",
    "|16  | 电线连接器（绝缘子）/wire-structure connector(insulator)  | \n",
    "|17  | 桥面/bridge deck  | \n",
    "|18  | 高噪音/high noise  | \n",
    "|19-63  |保留/reserved   | \n",
    "|64-255  |用户定义/user definable   | \n",
    "\n",
    "\n",
    "处理点云数据的python库也比较多，常用的包括[PDAL](https://pdal.io/)，[PCL](https://pointclouds.org/)，[open3D](http://www.open3d.org/docs/release/introduction.html)等。其中PDAL可以处理.las格式数据，当然读取后可以存储为其它格式数据，使用其它库的功能处理也未尝不可。\n",
    "\n",
    "此次实验数据为伊利诺斯州草原地质调查研究所（Illinois state geological survey - prairie research institute）,发布的伊利诺伊州[.las格式的激光雷达数据](https://www.arcgis.com/apps/webappviewer/index.html?id=44eb65c92c944f3e8b231eb1e2814f4d)。研究的目标区域为芝加哥城及其周边，因为分辨率为1m，研究区域部分数据量高达1.4T，其中每一单元（tile）基本为$2501 \\times 2501$，大约1G左右，最小的也有几百M。对于普通的计算机配置，处理大数据，通常要判断内存所能支持的容量（很多程序在处理数据时，可以不将其全部读入内存，例如h5py格式数据的批量写入和批量读取）；以及CPU的计算速度，分批的处理可以避免因为处理中断造成全部数据丢失。在阐述点云数据处理时，并不处理芝加哥城所有区域数据，仅以IIT（Illinois Institute of Technology）校园为核心，一定范围内的数据处理为例。下载的点云数据包括的单元编号（文件）有(总共73个单元文件，计26.2GB)：\n",
    "\n",
    "|   |   |   |   |   ||||||\n",
    "|---|---|---|---|---||||||\n",
    "|LAS_16758900.las|LAS_17008900.las|LAS_17258900.las|LAS_17508900.las|LAS_17758900.las|LAS_18008900.las|LAS_18258900.las||||\n",
    "|LAS_16758875.las|LAS_17008875.las|LAS_17258875.las|LAS_17508875.las|LAS_17758875.las|LAS_18008875.las|LAS_18258875.las||||\n",
    "|LAS_16758850.las|LAS_17008850.las|LAS_17258850.las|LAS_17508850.las|LAS_17758850.las|LAS_18008850.las|LAS_18258850.las||||\n",
    "|LAS_16758825.las|LAS_17008825.las|LAS_17258825.las|LAS_17508825.las|LAS_17758825.las|LAS_18008825.las|LAS_18258825.las||||\n",
    "|LAS_16758800.las|LAS_17008800.las|LAS_17258800.las|LAS_17508800.las|LAS_17758800.las|LAS_18008800.las|LAS_18258800.las|LAS_18508800.las|||\n",
    "|LAS_16758775.las|LAS_17008775.las|LAS_17258775.las|LAS_17508775.las|LAS_17758775.las|LAS_18008775.las|LAS_18258775.las|LAS_18508775.las|||\n",
    "|LAS_16758750.las|LAS_17008750.las|LAS_17258750.las|LAS_17508750.las|LAS_17758750.las|LAS_18008750.las|LAS_18258750.las|LAS_18508750.las|LAS_18758750.las|\n",
    "|LAS_16758725.las|LAS_17008725.las|LAS_17258725.las|LAS_17508725.las|LAS_17758725.las|LAS_18008725.las|LAS_18258725.las|LAS_18508725.las|LAS_18758725.las|LAS_19008725.las|\n",
    "|LAS_16758700.las|LAS_17008700.las|LAS_17258700.las|LAS_17508700.las|LAS_17758700.las|LAS_18008700.las|LAS_18258700.las|LAS_18508700.las|LAS_18758700.las|LAS_19008700.las|"
   ]
  },
  {
   "cell_type": "code",
   "execution_count": null,
   "metadata": {},
   "outputs": [],
   "source": []
  }
 ],
 "metadata": {
  "kernelspec": {
   "display_name": "Python 3",
   "language": "python",
   "name": "python3"
  },
  "language_info": {
   "codemirror_mode": {
    "name": "ipython",
    "version": 3
   },
   "file_extension": ".py",
   "mimetype": "text/x-python",
   "name": "python",
   "nbconvert_exporter": "python",
   "pygments_lexer": "ipython3",
   "version": "3.8.5"
  }
 },
 "nbformat": 4,
 "nbformat_minor": 4
}

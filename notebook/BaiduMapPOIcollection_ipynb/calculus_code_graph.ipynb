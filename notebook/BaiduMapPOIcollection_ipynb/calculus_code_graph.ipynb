{
 "cells": [
  {
   "cell_type": "markdown",
   "metadata": {},
   "source": [
    "> Created on Sat Nov  7 22:18:56 2020 @author: Richie Bao-caDesign设计(cadesign.cn) "
   ]
  },
  {
   "cell_type": "markdown",
   "metadata": {},
   "source": [
    "## 1. 微积分基础的代码表述\n",
    "微积分（Calculus），是研究极限、微分、积分和无穷级数等的一个数学分支。更本质的讲，微积分是一门研究变化的学问。在本书中多处涉及到微积分的知识，例如阐述回归的部分对于残差平方和关于回归系数求微分，并另微分结果为0解方程组得回归系数值，构建回归方程；在梯度下降法中梯度就是分别对每个变量求偏微分；在SIR传播模型的阐述中通过建立易感人群、恢复人群和受感人群的微分方程建立SIR传播模型。可见微积分在数据分析中具有重要的作用，因此有必要以代码的途径结合图表表述阐述微积分的基础知识,为相关数据分析提供预备。以《7天搞定微积分》和《漫画微积分》的内容为讲述的结构，主要使用[SymPy(Calculus)](https://docs.sympy.org/latest/tutorial/calculus.html)库解释微积分。\n",
    "\n",
    "> 1. [日]石山平,大上丈彦著.李巧丽译.7天搞定微积分[M].南海出版公司.海口.2010.8.\n",
    "2. [日]小岛宽之著,十神 真漫画绘制,株式会社BECOM漫画制作,张仲恒译.漫画微积分[M].科学出版社.北京.2009.8.\n",
    "\n",
    "### 1.1 "
   ]
  },
  {
   "cell_type": "code",
   "execution_count": null,
   "metadata": {},
   "outputs": [],
   "source": []
  }
 ],
 "metadata": {
  "kernelspec": {
   "display_name": "Python 3",
   "language": "python",
   "name": "python3"
  },
  "language_info": {
   "codemirror_mode": {
    "name": "ipython",
    "version": 3
   },
   "file_extension": ".py",
   "mimetype": "text/x-python",
   "name": "python",
   "nbconvert_exporter": "python",
   "pygments_lexer": "ipython3",
   "version": "3.7.8"
  }
 },
 "nbformat": 4,
 "nbformat_minor": 4
}
